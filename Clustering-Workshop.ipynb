{
 "cells": [
  {
   "cell_type": "markdown",
   "metadata": {},
   "source": [
    "# Workshop\n",
    "\n",
    "Se están planeando las rutas de distribución para un conjunto de clientes (Vehicle Routing Problem with Time Windows o VRPTW). Se está contemplando la posibilidad de agrupar a los clientes para asignarlos a vehículos y después resolver un problema de Agente Viajero dentro de cada clúster.\n",
    "\n",
    "Se le pide a su grupo de trabajo hacer dichos clústeres de clientes.\n",
    "\n",
    "La información se encuentra en el archivo adjunto.\n",
    "\n",
    "Para cada cliente se tiene:\n",
    "\n",
    "* i: Es el identificador del cliente\n",
    "* x: Es la coordenada x de la localización del cliente\n",
    "* y: Es la coordenada y de la localización del cliente\n",
    "* di: Es la demanda del cliente\n",
    "* ei: Es el inicio de la ventana de tiempo para la entrega\n",
    "* li: Es el fin de la ventana de tiempo para la entrega\n",
    "\n",
    "Utilizar el método de K-means utilizando todas las  características del problema.\n",
    "\n",
    "No puede haber más de 10 clústeres ya que es el número de vehículos disponibles.\n"
   ]
  },
  {
   "cell_type": "code",
   "execution_count": 1,
   "metadata": {},
   "outputs": [],
   "source": [
    "#import libraries\n",
    "import pandas as pd\n",
    "import numpy as np\n",
    "import matplotlib.pyplot as plt\n",
    "from sklearn.cluster import KMeans"
   ]
  },
  {
   "cell_type": "code",
   "execution_count": 2,
   "metadata": {},
   "outputs": [],
   "source": [
    "df = pd.read_excel(\"data/Datos_VRP.xlsx\",index_col=\"i\")\n",
    "X = df"
   ]
  },
  {
   "cell_type": "code",
   "execution_count": 3,
   "metadata": {},
   "outputs": [
    {
     "name": "stdout",
     "output_type": "stream",
     "text": [
      "[1, 2, 3, 4, 5, 6, 7, 8, 9, 10]\n",
      "[10587530.590000002, 2742538.125, 1345429.754599567, 813788.6407624633, 503416.6529980108, 385587.5606651802, 294689.68516483513, 251922.68890123034, 230368.11547619046, 209129.54910352803]\n"
     ]
    }
   ],
   "source": [
    "\n",
    "results = [ [ i+1 for i in range(10) ] for i in range(2)]\n",
    "for i in range(1,11):\n",
    "    kms = KMeans(n_clusters = i, init = \"k-means++\", n_init = 10, max_iter = 100 )\n",
    "    kms.fit(X)    \n",
    "    results[1][i-1] = kms.inertia_\n",
    "\n",
    "print(results[0])\n",
    "print(results[1])\n",
    "\n"
   ]
  },
  {
   "cell_type": "code",
   "execution_count": 4,
   "metadata": {},
   "outputs": [
    {
     "data": {
      "text/plain": [
       "[<matplotlib.lines.Line2D at 0x22f0bd92b08>]"
      ]
     },
     "execution_count": 4,
     "metadata": {},
     "output_type": "execute_result"
    },
    {
     "data": {
      "image/png": "[encoded data removed]",
      "text/plain": [
       "<Figure size 432x288 with 1 Axes>"
      ]
     },
     "metadata": {
      "needs_background": "light"
     },
     "output_type": "display_data"
    }
   ],
   "source": [
    "plt.plot(results[0],results[1],marker = \"o\")"
   ]
  },
  {
   "cell_type": "markdown",
   "metadata": {},
   "source": [
    "## The biggest change in the curve is made with 2 clusters"
   ]
  },
  {
   "cell_type": "code",
   "execution_count": 5,
   "metadata": {},
   "outputs": [
    {
     "data": {
      "text/html": [
       "<div>\n",
       "<style scoped>\n",
       "    .dataframe tbody tr th:only-of-type {\n",
       "        vertical-align: middle;\n",
       "    }\n",
       "\n",
       "    .dataframe tbody tr th {\n",
       "        vertical-align: top;\n",
       "    }\n",
       "\n",
       "    .dataframe thead th {\n",
       "        text-align: right;\n",
       "    }\n",
       "</style>\n",
       "<table border=\"1\" class=\"dataframe\">\n",
       "  <thead>\n",
       "    <tr style=\"text-align: right;\">\n",
       "      <th></th>\n",
       "      <th>x</th>\n",
       "      <th>y</th>\n",
       "      <th>di</th>\n",
       "      <th>ei</th>\n",
       "      <th>li</th>\n",
       "      <th>2-Cluster-Predict</th>\n",
       "    </tr>\n",
       "    <tr>\n",
       "      <th>i</th>\n",
       "      <th></th>\n",
       "      <th></th>\n",
       "      <th></th>\n",
       "      <th></th>\n",
       "      <th></th>\n",
       "      <th></th>\n",
       "    </tr>\n",
       "  </thead>\n",
       "  <tbody>\n",
       "    <tr>\n",
       "      <th>1</th>\n",
       "      <td>25</td>\n",
       "      <td>85</td>\n",
       "      <td>20</td>\n",
       "      <td>673</td>\n",
       "      <td>793</td>\n",
       "      <td>1</td>\n",
       "    </tr>\n",
       "    <tr>\n",
       "      <th>2</th>\n",
       "      <td>22</td>\n",
       "      <td>75</td>\n",
       "      <td>30</td>\n",
       "      <td>152</td>\n",
       "      <td>272</td>\n",
       "      <td>0</td>\n",
       "    </tr>\n",
       "    <tr>\n",
       "      <th>3</th>\n",
       "      <td>22</td>\n",
       "      <td>85</td>\n",
       "      <td>10</td>\n",
       "      <td>471</td>\n",
       "      <td>591</td>\n",
       "      <td>1</td>\n",
       "    </tr>\n",
       "    <tr>\n",
       "      <th>4</th>\n",
       "      <td>20</td>\n",
       "      <td>80</td>\n",
       "      <td>40</td>\n",
       "      <td>644</td>\n",
       "      <td>764</td>\n",
       "      <td>1</td>\n",
       "    </tr>\n",
       "    <tr>\n",
       "      <th>5</th>\n",
       "      <td>20</td>\n",
       "      <td>85</td>\n",
       "      <td>20</td>\n",
       "      <td>73</td>\n",
       "      <td>193</td>\n",
       "      <td>0</td>\n",
       "    </tr>\n",
       "  </tbody>\n",
       "</table>\n",
       "</div>"
      ],
      "text/plain": [
       "    x   y  di   ei   li  2-Cluster-Predict\n",
       "i                                         \n",
       "1  25  85  20  673  793                  1\n",
       "2  22  75  30  152  272                  0\n",
       "3  22  85  10  471  591                  1\n",
       "4  20  80  40  644  764                  1\n",
       "5  20  85  20   73  193                  0"
      ]
     },
     "execution_count": 5,
     "metadata": {},
     "output_type": "execute_result"
    }
   ],
   "source": [
    "kmsPredict = KMeans(n_clusters = 2, init = \"k-means++\", n_init = 10, max_iter = 100 )\n",
    "YPredict = kmsPredict.fit_predict(X)\n",
    "df[\"2-Cluster-Predict\"] = YPredict\n",
    "df.head()"
   ]
  },
  {
   "cell_type": "code",
   "execution_count": 6,
   "metadata": {},
   "outputs": [],
   "source": [
    "df.to_excel(\"result-clustering-KMeans.xlsx\")"
   ]
  }
 ],
 "metadata": {
  "kernelspec": {
   "display_name": "Python 3",
   "language": "python",
   "name": "python3"
  },
  "language_info": {
   "codemirror_mode": {
    "name": "ipython",
    "version": 3
   },
   "file_extension": ".py",
   "mimetype": "text/x-python",
   "name": "python",
   "nbconvert_exporter": "python",
   "pygments_lexer": "ipython3",
   "version": "3.7.6"
  }
 },
 "nbformat": 4,
 "nbformat_minor": 4
}
